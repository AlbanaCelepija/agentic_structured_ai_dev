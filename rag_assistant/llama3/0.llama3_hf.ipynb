{
 "cells": [
  {
   "cell_type": "code",
   "execution_count": 1,
   "id": "b5b6af67-d1d7-4071-8801-763597c1da29",
   "metadata": {},
   "outputs": [],
   "source": [
    "import transformers\n",
    "import torch"
   ]
  },
  {
   "cell_type": "code",
   "execution_count": 7,
   "id": "bfd5d8a4",
   "metadata": {},
   "outputs": [
    {
     "data": {
      "application/vnd.jupyter.widget-view+json": {
       "model_id": "4234f62b3ee04bba9bdbf205e2b1fa27",
       "version_major": 2,
       "version_minor": 0
      },
      "text/plain": [
       "Loading checkpoint shards:   0%|          | 0/4 [00:00<?, ?it/s]"
      ]
     },
     "metadata": {},
     "output_type": "display_data"
    },
    {
     "name": "stderr",
     "output_type": "stream",
     "text": [
      "Device set to use cuda:0\n",
      "Setting `pad_token_id` to `eos_token_id`:128001 for open-end generation.\n"
     ]
    },
    {
     "data": {
      "text/plain": [
       "'Are you able to generate code for detecting data drift in python? I am using the python code for detecting data drift in my project but I am unable to generate the code. I need to generate the code in python.\\nIn this article, we will learn how to generate code for detecting data drift in python. We will also learn about the different types of data drift that can occur and how to detect them.\\nWhat is Data Drift?\\nData drift is the phenomenon where the distribution of data changes over time. This can happen for a variety of reasons, including changes in the underlying data-generating process, changes in the population being sampled, or changes in the way data is collected or processed. Data drift can lead to problems with machine learning models, as they may no longer be accurate or relevant.\\nThere are a few different ways to detect data drift. One is to use statistical tests, such as the Kolmogorov-Smirnov test or the Anderson-Darling test. Another is to use visualization techniques, such as scatter plots or histograms. Finally, there are also some machine learning-based methods, such as outlier detection algorithms.\\nDetecting data drift is an important step in ensuring that machine learning models remain accurate and relevant over time.\\nThe Different Types of Data Drift\\nThere are different types of data drift that can occur in'"
      ]
     },
     "execution_count": 7,
     "metadata": {},
     "output_type": "execute_result"
    }
   ],
   "source": [
    "model_id = \"/home/acelepija/.cache/huggingface/hub/models--meta-llama--Llama-3.1-8B/snapshots/d04e592bb4f6aa9cfee91e2e20afa771667e1d4b\" \n",
    "#\"meta-llama/Llama-3.1-8B\"\n",
    "pipeline = transformers.pipeline(\n",
    "    \"text-generation\", model=model_id, model_kwargs={\"torch_dtype\": torch.bfloat16}#, device_map=\"auto\"\n",
    ")\n"
   ]
  },
  {
   "cell_type": "code",
   "execution_count": 8,
   "id": "d13ae65a",
   "metadata": {},
   "outputs": [
    {
     "name": "stderr",
     "output_type": "stream",
     "text": [
      "Setting `pad_token_id` to `eos_token_id`:128001 for open-end generation.\n"
     ]
    },
    {
     "data": {
      "text/plain": [
       "'Are you able to generate code for detecting data drift in python? I have tried the following code and it does not seem to work. The code I have provided is to detect drift between the training and test data. If there is a significant difference in the mean and standard deviation, it will print \"drift detected\" and if not it will print \"no drift detected\".\\n```\\ndef detect_drift(data_train, data_test):\\n    from scipy import stats\\n    stat, p = stats.ks_2samp(data_train, data_test)\\n    alpha = 0.05\\n    if p > alpha:\\n        print(\\'No drift detected\\')\\n    else:\\n        print(\\'Drift detected\\')\\n```\\n## Answer\\n\\nYou can use the following code to detect the data drift:\\n```\\nimport pandas as pd\\nfrom scipy import stats\\n\\ndata_train = pd.read_csv(\\'data_train.csv\\')\\ndata_test = pd.read_csv(\\'data_test.csv\\')\\n\\nstat, p = stats.2samp(data_train, data_test)\\nalpha = 0.05\\nif p > alpha:\\n    print(\\'No drift detected\\')\\nelse:\\n    print(\\'Drift detected\\')\\n```'"
      ]
     },
     "execution_count": 8,
     "metadata": {},
     "output_type": "execute_result"
    }
   ],
   "source": [
    "result = pipeline(\"Are you able to generate code for detecting data drift in python?\")\n",
    "result[0][\"generated_text\"]"
   ]
  },
  {
   "cell_type": "code",
   "execution_count": null,
   "id": "b90aa0e7",
   "metadata": {},
   "outputs": [],
   "source": []
  },
  {
   "cell_type": "code",
   "execution_count": null,
   "id": "a371770b",
   "metadata": {},
   "outputs": [],
   "source": []
  }
 ],
 "metadata": {
  "kernelspec": {
   "display_name": "Python 3 (ipykernel)",
   "language": "python",
   "name": "python3"
  },
  "language_info": {
   "codemirror_mode": {
    "name": "ipython",
    "version": 3
   },
   "file_extension": ".py",
   "mimetype": "text/x-python",
   "name": "python",
   "nbconvert_exporter": "python",
   "pygments_lexer": "ipython3",
   "version": "3.10.18"
  }
 },
 "nbformat": 4,
 "nbformat_minor": 5
}
